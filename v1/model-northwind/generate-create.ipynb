{
 "cells": [
  {
   "cell_type": "code",
   "execution_count": 30,
   "metadata": {},
   "outputs": [],
   "source": [
    "import sqlite3\n",
    "import pandas as pd\n",
    "import pyodbc"
   ]
  },
  {
   "cell_type": "code",
   "execution_count": 31,
   "metadata": {},
   "outputs": [],
   "source": [
    "conn1 : sqlite3.Connection = sqlite3.connect('database.sqlite3')\n",
    "conn2 : pyodbc.Connection = pyodbc.connect(\n",
    "\t\"Driver={ODBC Driver 17 for SQL Server};\"\n",
    "\t\"Server=srvdb04.seac.local;\"\n",
    "\t\"Trusted_Connection=yes;\"\n",
    ")"
   ]
  },
  {
   "cell_type": "code",
   "execution_count": 70,
   "metadata": {},
   "outputs": [],
   "source": [
    "def get_create(conn, table_name, db=None, dbtype='sqlite'):\n",
    "\tif dbtype.lower() == 'sqlite':\n",
    "\t\tquery = f\"\"\" SELECT sql FROM sqlite_master WHERE type = 'table' AND name != 'sqlite_sequence' AND name = ? \"\"\"\n",
    "\t\tdf = pd.read_sql(query, conn, params=(table_name,))\n",
    "\t\treturn df['sql'][0]\n",
    "\telif dbtype.lower() == 'tsql':\n",
    "\t\tquery = f\"\"\"SELECT * FROM {f'[{db}].' if db is not None else '' }INFORMATION_SCHEMA.COLUMNS WHERE TABLE_NAME = ? \"\"\"\n",
    "\t\tdf = pd.read_sql(query, conn, params=(table_name,))\n",
    "\t\tcreate = f\"\"\"CREATE TABLE {table_name} (\"\"\"\n",
    "\t\tfor x in range(len(df)):\n",
    "\t\t\tline = df.iloc[x]\n",
    "\t\t\tcreate += f\"\"\"\\n\\t{line['COLUMN_NAME']} {line['DATA_TYPE']},\"\"\"\n",
    "\t\tcreate = f\"\"\"{create[0:len(create)-1]}\\n);\"\"\"\n",
    "\t\treturn create\n",
    "\traise Exception('dbtype not valid')"
   ]
  },
  {
   "cell_type": "code",
   "execution_count": 77,
   "metadata": {},
   "outputs": [
    {
     "data": {
      "text/plain": [
       "\"CREATE TABLE [Products](\\n   [ProductID]INTEGER NOT NULL PRIMARY KEY AUTOINCREMENT,\\n   [ProductName]TEXT NOT NULL,\\n   [SupplierID]INTEGER,\\n   [CategoryID]INTEGER,\\n   [QuantityPerUnit]TEXT,\\n   [UnitPrice]NUMERIC DEFAULT 0,\\n   [UnitsInStock]INTEGER DEFAULT 0,\\n   [UnitsOnOrder]INTEGER DEFAULT 0,\\n   [ReorderLevel]INTEGER DEFAULT 0,\\n   [Discontinued]TEXT NOT NULL DEFAULT '0',\\n    CHECK ([UnitPrice]>=(0)),\\n    CHECK ([ReorderLevel]>=(0)),\\n    CHECK ([UnitsInStock]>=(0)),\\n    CHECK ([UnitsOnOrder]>=(0)),\\n\\tFOREIGN KEY ([CategoryID]) REFERENCES [Categories] ([CategoryID]) \\n\\t\\tON DELETE NO ACTION ON UPDATE NO ACTION,\\n\\tFOREIGN KEY ([SupplierID]) REFERENCES [Suppliers] ([SupplierID]) \\n\\t\\tON DELETE NO ACTION ON UPDATE NO ACTION\\n)\""
      ]
     },
     "execution_count": 77,
     "metadata": {},
     "output_type": "execute_result"
    }
   ],
   "source": [
    "get_create(conn=conn1, table_name='Products', dbtype='sqlite')"
   ]
  },
  {
   "cell_type": "code",
   "execution_count": 76,
   "metadata": {},
   "outputs": [
    {
     "name": "stderr",
     "output_type": "stream",
     "text": [
      "C:\\Users\\vttndr\\AppData\\Local\\Temp\\ipykernel_13108\\4175468803.py:8: UserWarning: pandas only supports SQLAlchemy connectable (engine/connection) or database string URI or sqlite3 DBAPI2 connection. Other DBAPI2 objects are not tested. Please consider using SQLAlchemy.\n",
      "  df = pd.read_sql(query, conn, params=(table_name,))\n"
     ]
    },
    {
     "data": {
      "text/plain": [
       "'CREATE TABLE DIM_HD_Chiamate (\\n\\tIdDatabase int,\\n\\tIdChiamata bigint,\\n\\tIdRiga int,\\n\\tIdCliente bigint,\\n\\tData varchar,\\n\\tStato char,\\n\\tUrgenza char,\\n\\tSollecito char,\\n\\tDurata int,\\n\\tLogin varchar,\\n\\tGruppo varchar,\\n\\tCausa varchar,\\n\\tUpdateDataOra datetime\\n);'"
      ]
     },
     "execution_count": 76,
     "metadata": {},
     "output_type": "execute_result"
    }
   ],
   "source": [
    "get_create(conn=conn2, table_name='DIM_HD_Chiamate', db='DwBusiness', dbtype='tsql')"
   ]
  }
 ],
 "metadata": {
  "kernelspec": {
   "display_name": "Python 3",
   "language": "python",
   "name": "python3"
  },
  "language_info": {
   "codemirror_mode": {
    "name": "ipython",
    "version": 3
   },
   "file_extension": ".py",
   "mimetype": "text/x-python",
   "name": "python",
   "nbconvert_exporter": "python",
   "pygments_lexer": "ipython3",
   "version": "3.11.4"
  }
 },
 "nbformat": 4,
 "nbformat_minor": 2
}
